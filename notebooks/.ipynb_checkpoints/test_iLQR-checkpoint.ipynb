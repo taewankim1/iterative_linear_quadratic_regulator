{
 "cells": [
  {
   "cell_type": "code",
   "execution_count": 1,
   "metadata": {},
   "outputs": [],
   "source": [
    "import matplotlib.pyplot as plt\n",
    "%matplotlib inline  \n",
    "%load_ext autoreload\n",
    "%autoreload 2\n",
    "import numpy as np\n",
    "import scipy as sp\n",
    "import scipy.linalg\n",
    "import time\n",
    "import random\n",
    "def print_np(x):\n",
    "    print (\"Type is %s\" % (type(x)))\n",
    "    print (\"Shape is %s\" % (x.shape,))\n",
    "#     print (\"Values are: \\n%s\" % (x))"
   ]
  },
  {
   "cell_type": "code",
   "execution_count": 2,
   "metadata": {},
   "outputs": [],
   "source": [
    "import sys\n",
    "sys.path.append('../')\n",
    "sys.path.append('../model')\n",
    "# import model\n",
    "import UnicycleModel\n",
    "import cost\n",
    "from iLQR import iLQR\n",
    "from scipy.integrate import solve_ivp"
   ]
  },
  {
   "cell_type": "code",
   "execution_count": 3,
   "metadata": {},
   "outputs": [],
   "source": [
    "x_t = np.zeros(3)\n",
    "x_t[0] = 0.0\n",
    "x_t[1] = 2.0\n",
    "x_t[2] = 0.0\n",
    "ix = 3\n",
    "iu = 2\n",
    "N = 500\n",
    "delT = 0.1\n",
    "myModel = UnicycleModel.unicycle('Hello',ix,iu,linearization=\"numeric_central\")\n",
    "myCost = cost.unicycle('Hello',x_t,N)"
   ]
  },
  {
   "cell_type": "code",
   "execution_count": 6,
   "metadata": {
    "scrolled": false
   },
   "outputs": [
    {
     "name": "stdout",
     "output_type": "stream",
     "text": [
      "iteration   cost        reduction   expected    gradient    log10(lambda)\n",
      "0           378.802     231         240         0.497       0.0         \n",
      "1           147.896     19          25.7        0.223       -0.2        \n",
      "2           128.874     14.9        15.8        0.225       -0.6        \n",
      "3           114.002     12.5        28.2        0.325       -1.2        \n",
      "4           101.47      18.3        15.8        0.152       -2.0        \n",
      "5           83.1441     8.56        8.26        0.177       -3.1        \n",
      "6           74.5799     11.2        11.8        0.214       -4.3        \n",
      "7           63.4029     8.92        10.1        0.197       -5.7        \n",
      "8           54.4814     8.59        8.84        0.187       -7.3        \n",
      "9           45.8953     7.79        7.57        0.177       -inf        \n"
     ]
    },
    {
     "name": "stderr",
     "output_type": "stream",
     "text": [
      "/Users/taewankim/Documents/Code/Personal/iLQR/notebooks/../iLQR.py:319: RuntimeWarning: divide by zero encountered in log10\n",
      "  self.dlamda = np.minimum(self.dlamda / self.lamdaFactor, 1/self.lamdaFactor)\n"
     ]
    },
    {
     "name": "stdout",
     "output_type": "stream",
     "text": [
      "10          38.1022     7.59        9.37        0.16        -inf        \n",
      "11          30.5164     4.64        4.57        0.112       -inf        \n",
      "12          25.8737     3.36        4.27        0.112       -inf        \n",
      "13          22.5156     4.27        3.49        0.0862      -inf        \n",
      "14          18.243      0.183       3.49        0.104       -inf        \n",
      "15          18.0602     5.39        4.51        0.0941      -inf        \n",
      "16          12.6745     2.02        1.94        0.0662      -inf        \n",
      "17          10.6553     0.203       1.22        0.0396      -inf        \n",
      "18          10.4524     1.25        1.27        0.0624      -inf        \n",
      "19          9.19773     0.000873    0.000924    0.000913    -inf        \n",
      "SUCCEESS : gradient norm < tolGrad\n"
     ]
    }
   ],
   "source": [
    "maxIter= 100\n",
    "\n",
    "x0 = np.zeros(3)\n",
    "x0[0] = -1.0 # -2.0\n",
    "x0[1] = 0.0 # -0.5\n",
    "x0[2] = np.pi/2\n",
    "\n",
    "u0 = np.random.rand(N,iu)\n",
    "i1 = iLQR('unicycle',delT,N,maxIter,myModel,myCost,discretization=\"Euler\")\n",
    "x, u, Quu_save, Quu_inv_save, L, l = i1.update(x0,u0)"
   ]
  },
  {
   "cell_type": "code",
   "execution_count": null,
   "metadata": {},
   "outputs": [],
   "source": [
    "plt.figure(figsize=(10,10))\n",
    "fS = 18\n",
    "plt.subplot(221)\n",
    "plt.plot(x[:,0], x[:,1], linewidth=2.0)\n",
    "plt.plot(x_t[0],x_t[1],\"o\",label='goal')\n",
    "plt.gca().set_aspect('equal', adjustable='box')\n",
    "plt.axis([-2, 2, 0, 4.0])\n",
    "plt.xlabel('X (m)', fontsize = fS)\n",
    "plt.ylabel('Y (m)', fontsize = fS)\n",
    "plt.subplot(222)\n",
    "plt.plot(np.array(range(N+1))*0.1, x[:,0], linewidth=2.0,label='naive')\n",
    "plt.xlabel('time (s)', fontsize = fS)\n",
    "plt.ylabel('x1 (m)', fontsize = fS)\n",
    "plt.subplot(223)\n",
    "plt.plot(np.array(range(N+1))*0.1, x[:,1], linewidth=2.0,label='naive')\n",
    "plt.xlabel('time (s)', fontsize = fS)\n",
    "plt.ylabel('x2 (m)', fontsize = fS)\n",
    "plt.subplot(224)\n",
    "plt.plot(np.array(range(N+1))*0.1, x[:,2], linewidth=2.0,label='naive')\n",
    "plt.xlabel('time (s)', fontsize = fS)\n",
    "plt.ylabel('x3 (rad)', fontsize = fS)\n",
    "plt.legend(fontsize=fS)\n",
    "plt.show()\n",
    "\n",
    "plt.figure()\n",
    "plt.subplot(121)\n",
    "plt.plot(np.array(range(N))*0.1, u[:,0], linewidth=2.0)\n",
    "plt.xlabel('time (s)', fontsize = fS)\n",
    "plt.ylabel('v (m/s)', fontsize = fS)\n",
    "plt.subplot(122)\n",
    "plt.plot(np.array(range(N))*0.1, u[:,1], linewidth=2.0)\n",
    "plt.xlabel('time (s)', fontsize = fS)\n",
    "plt.ylabel('w (rad/s)', fontsize = fS)\n",
    "plt.show()\n",
    "\n"
   ]
  },
  {
   "cell_type": "markdown",
   "metadata": {
    "collapsed": true
   },
   "source": [
    "# Test integration"
   ]
  },
  {
   "cell_type": "code",
   "execution_count": null,
   "metadata": {},
   "outputs": [],
   "source": [
    "x_test = np.zeros_like(x)"
   ]
  },
  {
   "cell_type": "code",
   "execution_count": null,
   "metadata": {},
   "outputs": [],
   "source": [
    "# using for loop\n",
    "x_test[0,:] = x[0,:]\n",
    "state_init = x[0,:]\n",
    "start = time.time()\n",
    "for i in range(N) :\n",
    "    state_init = x_test[i,:]\n",
    "    int_result = solve_ivp(lambda t,x: myModel.forwardDyn(x,u[i,:],idx=t,discrete=False),\n",
    "                          t_span=(0,0.1),y0=state_init,max_step=1e-2)\n",
    "    x_test[i+1,:] = int_result.y[:,-1]\n",
    "print(time.time()-start)"
   ]
  },
  {
   "cell_type": "code",
   "execution_count": null,
   "metadata": {},
   "outputs": [],
   "source": [
    "\n",
    "# parallel integration\n",
    "def input_by_time(u,t,t_final) :\n",
    "    if t >= t_final :\n",
    "        return u[-1,:]\n",
    "    else :\n",
    "        return u[int(t*10),:]\n",
    "t_eval = np.array(range(N+1))*0.1\n",
    "state_init = x[0,:]\n",
    "start = time.time()\n",
    "int_result = solve_ivp(lambda t,x: myModel.forwardDyn(x,input_by_time(u,t,50),idx=t,discrete=False),\n",
    "                      t_span=(t_eval[0],t_eval[-1]),\n",
    "                       t_eval = t_eval,\n",
    "                       y0=state_init,\n",
    "                       max_step=1e-2,\n",
    "                      )\n",
    "x_test_p = int_result.y.transpose()\n",
    "print(time.time()-start)"
   ]
  },
  {
   "cell_type": "code",
   "execution_count": null,
   "metadata": {},
   "outputs": [],
   "source": [
    "%matplotlib qt\n",
    "plt.figure(figsize=(15,5))\n",
    "plt.subplot(131)\n",
    "plt.plot(np.array(range(N+1))*0.1, x[:,0], linewidth=2.0,label='naive')\n",
    "plt.plot(np.array(range(N+1))*0.1, x_test[:,0], linewidth=2.0,label='ode')\n",
    "plt.plot(np.array(range(N+1))*0.1, x_test_p[:,0], linewidth=2.0,label='ode_parallel')\n",
    "plt.xlabel('time (s)', fontsize = fS)\n",
    "plt.ylabel('x1 (m)', fontsize = fS)\n",
    "plt.subplot(132)\n",
    "plt.plot(np.array(range(N+1))*0.1, x[:,1], linewidth=2.0,label='naive')\n",
    "plt.plot(np.array(range(N+1))*0.1, x_test[:,1], linewidth=2.0,label='ode')\n",
    "plt.plot(np.array(range(N+1))*0.1, x_test_p[:,1], linewidth=2.0,label='ode_parallel')\n",
    "plt.xlabel('time (s)', fontsize = fS)\n",
    "plt.ylabel('x2 (m)', fontsize = fS)\n",
    "plt.subplot(133)\n",
    "plt.plot(np.array(range(N+1))*0.1, x[:,2], linewidth=2.0,label='naive')\n",
    "plt.plot(np.array(range(N+1))*0.1, x_test[:,2], linewidth=2.0,label='ode')\n",
    "# plt.plot(np.array(range(N+1))*0.1, x_test_p[:,2], linewidth=2.0,label='ode_parallel')\n",
    "plt.xlabel('time (s)', fontsize = fS)\n",
    "plt.ylabel('x3 (rad)', fontsize = fS)\n",
    "plt.legend(fontsize=fS)\n",
    "plt.show()"
   ]
  },
  {
   "cell_type": "code",
   "execution_count": null,
   "metadata": {},
   "outputs": [],
   "source": []
  },
  {
   "cell_type": "code",
   "execution_count": null,
   "metadata": {},
   "outputs": [],
   "source": []
  }
 ],
 "metadata": {
  "kernelspec": {
   "display_name": "Python 3",
   "language": "python",
   "name": "python3"
  },
  "language_info": {
   "codemirror_mode": {
    "name": "ipython",
    "version": 3
   },
   "file_extension": ".py",
   "mimetype": "text/x-python",
   "name": "python",
   "nbconvert_exporter": "python",
   "pygments_lexer": "ipython3",
   "version": "3.8.13"
  }
 },
 "nbformat": 4,
 "nbformat_minor": 1
}
