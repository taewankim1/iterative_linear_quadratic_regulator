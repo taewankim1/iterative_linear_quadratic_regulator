{
 "cells": [
  {
   "cell_type": "code",
   "execution_count": 1,
   "metadata": {},
   "outputs": [],
   "source": [
    "import matplotlib.pyplot as plt\n",
    "%matplotlib inline  \n",
    "%load_ext autoreload\n",
    "%autoreload 2\n",
    "import numpy as np\n",
    "import scipy as sp\n",
    "import scipy.linalg\n",
    "import time\n",
    "import random\n",
    "def print_np(x):\n",
    "    print (\"Type is %s\" % (type(x)))\n",
    "    print (\"Shape is %s\" % (x.shape,))\n",
    "#     print (\"Values are: \\n%s\" % (x))"
   ]
  },
  {
   "cell_type": "code",
   "execution_count": 2,
   "metadata": {},
   "outputs": [],
   "source": [
    "import sys\n",
    "sys.path.append('../')\n",
    "sys.path.append('../model')\n",
    "# import model\n",
    "import UnicycleModel\n",
    "import cost\n",
    "from iLQR import iLQR\n",
    "from scipy.integrate import solve_ivp"
   ]
  },
  {
   "cell_type": "code",
   "execution_count": 3,
   "metadata": {},
   "outputs": [],
   "source": [
    "x_t = np.zeros(3)\n",
    "x_t[0] = 0.0\n",
    "x_t[1] = 2.0\n",
    "x_t[2] = 0.0\n",
    "ix = 3\n",
    "iu = 2\n",
    "N = 500\n",
    "delT = 0.1\n",
    "tf = delT * N\n",
    "myModel = UnicycleModel.unicycle('Hello',ix,iu,linearization=\"numeric_central\")\n",
    "myCost = cost.unicycle('Hello',x_t,N)"
   ]
  },
  {
   "cell_type": "code",
   "execution_count": 4,
   "metadata": {
    "scrolled": false
   },
   "outputs": [
    {
     "name": "stdout",
     "output_type": "stream",
     "text": [
      "iteration   cost        reduction   expected    gradient    log10(lambda)\n",
      "0           464.901     241         166         0.307       0.0         \n",
      "1           224.275     79          51.2        0.206       -0.2        \n",
      "2           145.267     24.6        19.2        0.146       -0.6        \n",
      "3           120.643     17.4        17.2        0.178       -1.2        \n",
      "4           103.223     13          12          0.151       -2.0        \n",
      "5           90.231      13.6        12.3        0.157       -3.1        \n",
      "6           76.5858     17.5        15          0.136       -4.3        \n",
      "7           59.1084     7.49        6.07        0.0909      -5.7        \n",
      "8           51.6214     7.97        6.98        0.1         -7.3        \n"
     ]
    },
    {
     "name": "stderr",
     "output_type": "stream",
     "text": [
      "/Users/taewankim/Documents/Code/Personal/iLQR/notebooks/../iLQR.py:326: RuntimeWarning: divide by zero encountered in log10\n",
      "  print(\"%-12d%-12.6g%-12.3g%-12.3g%-12.3g%-12.1f\" % ( iteration,np.sum(self.c),dcost,expected,g_norm,np.log10(self.lamda)) )\n"
     ]
    },
    {
     "name": "stdout",
     "output_type": "stream",
     "text": [
      "9           43.6559     7.13        5.78        0.0906      -inf        \n",
      "10          36.5222     5.17        4.44        0.0835      -inf        \n",
      "11          31.3538     4.23        3.77        0.0792      -inf        \n",
      "12          27.1202     0.0911      3.62        0.0662      -inf        \n",
      "13          27.0291     5.6         3.48        0.0525      -inf        \n",
      "14          21.4272     2.71        1.47        0.0382      -inf        \n",
      "15          18.7177     2.41        1.26        0.0412      -inf        \n",
      "16          16.3107     2.1         1.04        0.0355      -inf        \n",
      "17          14.2094     1.9         0.907       0.0294      -inf        \n",
      "18          12.311      1.56        0.823       0.0274      -inf        \n",
      "19          10.7514     0.954       0.594       0.0231      -inf        \n",
      "20          9.79726     0.43        0.287       0.0145      -inf        \n",
      "21          9.36749     0.149       0.101       0.00809     -inf        \n",
      "22          9.21813     0.0444      0.0297      0.00418     -inf        \n",
      "23          9.17375     0.0122      0.00814     0.00212     -inf        \n",
      "24          9.16155     0.00324     0.00216     0.00107     -inf        \n",
      "25          9.1583      0.000853    0.000566    0.000545    -inf        \n",
      "26          9.15745     0.000224    0.000148    0.000277    -inf        \n",
      "27          9.15723     5.9e-05     3.9e-05     0.000142    -inf        \n",
      "SUCCEESS : gradient norm < tolGrad\n"
     ]
    }
   ],
   "source": [
    "maxIter= 100\n",
    "\n",
    "x0 = np.zeros(3)\n",
    "x0[0] = -1.0 # -2.0\n",
    "x0[1] = 0.0 # -0.5\n",
    "x0[2] = np.pi/2\n",
    "\n",
    "u0 = np.random.rand(N,iu)\n",
    "i1 = iLQR('unicycle',delT,N,tf,maxIter,myModel,myCost,discretization=\"ACL\")\n",
    "x, u, Quu_save, Quu_inv_save, L, l = i1.update(x0,u0)"
   ]
  },
  {
   "cell_type": "code",
   "execution_count": null,
   "metadata": {},
   "outputs": [],
   "source": [
    "plt.figure(figsize=(10,10))\n",
    "fS = 18\n",
    "plt.subplot(221)\n",
    "plt.plot(x[:,0], x[:,1], linewidth=2.0)\n",
    "plt.plot(x_t[0],x_t[1],\"o\",label='goal')\n",
    "plt.gca().set_aspect('equal', adjustable='box')\n",
    "plt.axis([-2, 2, 0, 4.0])\n",
    "plt.xlabel('X (m)', fontsize = fS)\n",
    "plt.ylabel('Y (m)', fontsize = fS)\n",
    "plt.subplot(222)\n",
    "plt.plot(np.array(range(N+1))*0.1, x[:,0], linewidth=2.0,label='naive')\n",
    "plt.xlabel('time (s)', fontsize = fS)\n",
    "plt.ylabel('x1 (m)', fontsize = fS)\n",
    "plt.subplot(223)\n",
    "plt.plot(np.array(range(N+1))*0.1, x[:,1], linewidth=2.0,label='naive')\n",
    "plt.xlabel('time (s)', fontsize = fS)\n",
    "plt.ylabel('x2 (m)', fontsize = fS)\n",
    "plt.subplot(224)\n",
    "plt.plot(np.array(range(N+1))*0.1, x[:,2], linewidth=2.0,label='naive')\n",
    "plt.xlabel('time (s)', fontsize = fS)\n",
    "plt.ylabel('x3 (rad)', fontsize = fS)\n",
    "plt.legend(fontsize=fS)\n",
    "plt.show()\n",
    "\n",
    "plt.figure()\n",
    "plt.subplot(121)\n",
    "plt.plot(np.array(range(N))*0.1, u[:,0], linewidth=2.0)\n",
    "plt.xlabel('time (s)', fontsize = fS)\n",
    "plt.ylabel('v (m/s)', fontsize = fS)\n",
    "plt.subplot(122)\n",
    "plt.plot(np.array(range(N))*0.1, u[:,1], linewidth=2.0)\n",
    "plt.xlabel('time (s)', fontsize = fS)\n",
    "plt.ylabel('w (rad/s)', fontsize = fS)\n",
    "plt.show()\n",
    "\n"
   ]
  },
  {
   "cell_type": "markdown",
   "metadata": {
    "collapsed": true
   },
   "source": [
    "# Test integration"
   ]
  },
  {
   "cell_type": "code",
   "execution_count": null,
   "metadata": {},
   "outputs": [],
   "source": [
    "x_test = np.zeros_like(x)"
   ]
  },
  {
   "cell_type": "code",
   "execution_count": null,
   "metadata": {},
   "outputs": [],
   "source": [
    "# using for loop\n",
    "x_test[0,:] = x[0,:]\n",
    "state_init = x[0,:]\n",
    "start = time.time()\n",
    "for i in range(N) :\n",
    "    state_init = x_test[i,:]\n",
    "    int_result = solve_ivp(lambda t,x: myModel.forwardDyn(x,u[i,:],idx=t,discrete=False),\n",
    "                          t_span=(0,0.1),y0=state_init,max_step=1e-2)\n",
    "    x_test[i+1,:] = int_result.y[:,-1]\n",
    "print(time.time()-start)"
   ]
  },
  {
   "cell_type": "code",
   "execution_count": null,
   "metadata": {},
   "outputs": [],
   "source": [
    "\n",
    "# parallel integration\n",
    "def input_by_time(u,t,t_final) :\n",
    "    if t >= t_final :\n",
    "        return u[-1,:]\n",
    "    else :\n",
    "        return u[int(t*10),:]\n",
    "t_eval = np.array(range(N+1))*0.1\n",
    "state_init = x[0,:]\n",
    "start = time.time()\n",
    "int_result = solve_ivp(lambda t,x: myModel.forwardDyn(x,input_by_time(u,t,50),idx=t,discrete=False),\n",
    "                      t_span=(t_eval[0],t_eval[-1]),\n",
    "                       t_eval = t_eval,\n",
    "                       y0=state_init,\n",
    "                       max_step=1e-2,\n",
    "                      )\n",
    "x_test_p = int_result.y.transpose()\n",
    "print(time.time()-start)"
   ]
  },
  {
   "cell_type": "code",
   "execution_count": null,
   "metadata": {},
   "outputs": [],
   "source": [
    "%matplotlib qt\n",
    "plt.figure(figsize=(15,5))\n",
    "plt.subplot(131)\n",
    "plt.plot(np.array(range(N+1))*0.1, x[:,0], linewidth=2.0,label='naive')\n",
    "plt.plot(np.array(range(N+1))*0.1, x_test[:,0], linewidth=2.0,label='ode')\n",
    "plt.plot(np.array(range(N+1))*0.1, x_test_p[:,0], linewidth=2.0,label='ode_parallel')\n",
    "plt.xlabel('time (s)', fontsize = fS)\n",
    "plt.ylabel('x1 (m)', fontsize = fS)\n",
    "plt.subplot(132)\n",
    "plt.plot(np.array(range(N+1))*0.1, x[:,1], linewidth=2.0,label='naive')\n",
    "plt.plot(np.array(range(N+1))*0.1, x_test[:,1], linewidth=2.0,label='ode')\n",
    "plt.plot(np.array(range(N+1))*0.1, x_test_p[:,1], linewidth=2.0,label='ode_parallel')\n",
    "plt.xlabel('time (s)', fontsize = fS)\n",
    "plt.ylabel('x2 (m)', fontsize = fS)\n",
    "plt.subplot(133)\n",
    "plt.plot(np.array(range(N+1))*0.1, x[:,2], linewidth=2.0,label='naive')\n",
    "plt.plot(np.array(range(N+1))*0.1, x_test[:,2], linewidth=2.0,label='ode')\n",
    "# plt.plot(np.array(range(N+1))*0.1, x_test_p[:,2], linewidth=2.0,label='ode_parallel')\n",
    "plt.xlabel('time (s)', fontsize = fS)\n",
    "plt.ylabel('x3 (rad)', fontsize = fS)\n",
    "plt.legend(fontsize=fS)\n",
    "plt.show()"
   ]
  },
  {
   "cell_type": "code",
   "execution_count": null,
   "metadata": {},
   "outputs": [],
   "source": []
  },
  {
   "cell_type": "code",
   "execution_count": null,
   "metadata": {},
   "outputs": [],
   "source": []
  }
 ],
 "metadata": {
  "kernelspec": {
   "display_name": "Python 3",
   "language": "python",
   "name": "python3"
  },
  "language_info": {
   "codemirror_mode": {
    "name": "ipython",
    "version": 3
   },
   "file_extension": ".py",
   "mimetype": "text/x-python",
   "name": "python",
   "nbconvert_exporter": "python",
   "pygments_lexer": "ipython3",
   "version": "3.8.13"
  }
 },
 "nbformat": 4,
 "nbformat_minor": 1
}
