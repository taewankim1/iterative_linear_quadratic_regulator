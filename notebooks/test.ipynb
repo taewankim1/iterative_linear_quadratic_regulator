{
 "cells": [
  {
   "cell_type": "code",
   "execution_count": 1,
   "metadata": {},
   "outputs": [],
   "source": [
    "from __future__ import division\n",
    "import matplotlib.pyplot as plt\n",
    "%matplotlib inline  \n",
    "%load_ext autoreload\n",
    "%autoreload 2\n",
    "import numpy as np\n",
    "import scipy as sp\n",
    "import scipy.linalg\n",
    "import time\n",
    "import random\n",
    "def print_np(x):\n",
    "    print (\"Type is %s\" % (type(x)))\n",
    "    print (\"Shape is %s\" % (x.shape,))\n",
    "#     print (\"Values are: \\n%s\" % (x))"
   ]
  },
  {
   "cell_type": "code",
   "execution_count": 3,
   "metadata": {},
   "outputs": [],
   "source": [
    "import sys\n",
    "sys.path.append('../')\n",
    "import model\n",
    "import cost\n",
    "from iLQR import iLQR\n",
    "from scipy.integrate import solve_ivp"
   ]
  },
  {
   "cell_type": "code",
   "execution_count": 5,
   "metadata": {},
   "outputs": [],
   "source": [
    "x_t = np.zeros(2)\n",
    "x_t[0] = 0.0\n",
    "x_t[1] = 3.0\n",
    "ix = 3\n",
    "iu = 2\n",
    "N = 500\n",
    "delT = 0.1\n",
    "myModel = model.unicycle('Hello',ix,iu,delT)\n",
    "myCost = cost.unicycle('Hello',x_t,N)"
   ]
  },
  {
   "cell_type": "code",
   "execution_count": 6,
   "metadata": {
    "scrolled": true
   },
   "outputs": [
    {
     "name": "stdout",
     "output_type": "stream",
     "text": [
      "iteration   cost        reduction   expected    gradient    log10(lambda)\n",
      "0           508.642     347         362         0.623       0.0         \n",
      "1           161.66      35.7        41.8        0.394       -0.2        \n",
      "2           125.968     11.1        12.2        0.127       -0.6        \n",
      "3           114.877     4.6         11.2        0.16        -1.2        \n",
      "4           110.276     12.5        11.1        0.162       -2.0        \n",
      "5           97.7456     10.5        10.5        0.217       -3.1        \n",
      "6           87.2802     6.24        5.43        0.159       -4.3        \n",
      "7           81.0413     6.06        6.47        0.254       -5.7        \n",
      "8           74.9777     5.52        5.17        0.159       -7.3        \n"
     ]
    },
    {
     "name": "stderr",
     "output_type": "stream",
     "text": [
      "../iLQR.py:302: RuntimeWarning: divide by zero encountered in log10\n",
      "  print(\"%-12d%-12.6g%-12.3g%-12.3g%-12.3g%-12.1f\" % ( iteration,np.sum(self.c),dcost,expected,g_norm,np.log10(self.lamda)) )\n"
     ]
    },
    {
     "name": "stdout",
     "output_type": "stream",
     "text": [
      "9           69.4582     2.87        4.19        0.291       -inf        \n",
      "10          66.5871     6.21        5.08        0.117       -inf        \n",
      "11          60.3812     2.53        3.01        0.24        -inf        \n",
      "12          57.8534     4.64        4.65        0.165       -inf        \n",
      "13          53.217      3.82        5.18        0.171       -inf        \n",
      "14          49.3951     4.44        3.77        0.105       -inf        \n",
      "Cholesky failed at 413\n",
      "Cholesky failed at 413\n",
      "Cholesky failed at 413\n",
      "Cholesky failed at 413\n",
      "Cholesky failed at 413\n",
      "Cholesky failed at 413\n",
      "Cholesky failed at 413\n",
      "Cholesky failed at 412\n",
      "15          44.9594     0.254       0.251       0.0207      1.1         \n",
      "16          44.7049     0.288       0.287       0.0224      0.9         \n",
      "Cholesky failed at 368\n",
      "17          44.4173     0.316       0.327       0.0258      0.7         \n",
      "18          44.1013     0.321       0.316       0.0269      0.5         \n",
      "19          43.7801     0.851       0.891       0.043       0.1         \n",
      "20          42.9294     3.24        4.44        0.13        -0.5        \n",
      "Cholesky failed at 195\n",
      "Cholesky failed at 194\n",
      "Cholesky failed at 188\n",
      "21          39.6846     1.3         1.29        0.06        -0.1        \n",
      "22          38.3802     2.44        2.51        0.0905      -0.3        \n",
      "Cholesky failed at 425\n",
      "Cholesky failed at 399\n",
      "Cholesky failed at 359\n",
      "23          35.9399     0.245       0.242       0.0252      0.5         \n",
      "24          35.6952     0.25        0.239       0.0244      0.3         \n",
      "25          35.445      1.03        1.01        0.0579      -0.1        \n",
      "26          34.4142     4.62        6.31        0.176       -0.7        \n",
      "Cholesky failed at 165\n",
      "Cholesky failed at 165\n",
      "Cholesky failed at 162\n",
      "27          29.7947     0.54        1.94        0.0881      -0.3        \n",
      "28          29.2551     3.5         3.24        0.111       -0.5        \n",
      "Cholesky failed at 379\n",
      "Cholesky failed at 379\n",
      "Cholesky failed at 378\n",
      "Cholesky failed at 365\n",
      "29          25.7572     0.0369      0.0365      0.00725     1.1         \n",
      "30          25.7203     0.0563      0.0552      0.0103      0.9         \n",
      "31          25.6639     0.0748      0.216       0.0332      0.5         \n",
      "Cholesky failed at 337\n",
      "Cholesky failed at 324\n",
      "32          25.5891     0.184       0.178       0.0223      0.5         \n",
      "33          25.4054     0.203       0.189       0.0223      0.3         \n",
      "34          25.2026     0.256       0.597       0.0569      -0.1        \n",
      "35          24.9466     2.18        4.07        0.148       -0.7        \n",
      "36          22.7677     2.32        1.76        0.0993      -1.5        \n",
      "37          20.4459     1.93        2.13        0.144       -2.5        \n",
      "38          18.5125     0.277       0.435       0.2         -3.8        \n",
      "39          18.2359     1.4         1.4         0.113       -5.2        \n",
      "40          16.8374     1.4         1.39        0.0867      -6.8        \n",
      "Cholesky failed at 215\n",
      "Cholesky failed at 215\n",
      "Cholesky failed at 215\n",
      "Cholesky failed at 215\n",
      "Cholesky failed at 215\n",
      "Cholesky failed at 215\n",
      "Cholesky failed at 215\n",
      "Cholesky failed at 207\n",
      "41          15.433      0.0955      0.0946      0.0174      1.1         \n",
      "42          15.3375     0.081       0.0799      0.0152      0.9         \n",
      "43          15.2565     0.204       0.197       0.0261      0.5         \n",
      "44          15.0528     0.16        0.539       0.048       -0.1        \n",
      "45          14.8928     1.05        1.29        0.0813      -0.9        \n",
      "46          13.8413     1.24        0.96        0.0669      -1.9        \n",
      "47          12.6057     0.758       0.852       0.0699      -3.1        \n",
      "48          11.8482     0.895       0.641       0.0563      -4.6        \n",
      "Cholesky failed at 108\n",
      "Cholesky failed at 108\n",
      "Cholesky failed at 108\n",
      "Cholesky failed at 108\n",
      "Cholesky failed at 108\n",
      "Cholesky failed at 108\n",
      "Cholesky failed at 108\n",
      "Cholesky failed at 94\n",
      "49          10.9529     0.0151      0.0152      0.00675     1.1         \n",
      "50          10.9378     0.0128      0.0128      0.00662     0.9         \n",
      "51          10.925      0.0363      0.0361      0.0115      0.5         \n",
      "52          10.8887     0.144       0.14        0.0242      -0.1        \n",
      "53          10.7446     0.309       0.557       0.06        -0.9        \n",
      "54          10.4352     0.537       0.405       0.0458      -1.9        \n",
      "Cholesky failed at 141\n",
      "Cholesky failed at 141\n",
      "Cholesky failed at 141\n",
      "Cholesky failed at 141\n",
      "Cholesky failed at 141\n",
      "Cholesky failed at 97\n",
      "55          9.89804     0.0209      0.021       0.0081      1.1         \n",
      "56          9.87715     0.014       0.014       0.00747     0.9         \n",
      "57          9.86318     0.0279      0.0279      0.01        0.5         \n",
      "58          9.83529     0.112       0.11        0.0214      -0.1        \n",
      "59          9.72314     0.0152      0.0412      0.0605      -0.9        \n",
      "60          9.70791     0.424       0.427       0.0723      -1.9        \n",
      "61          9.28432     0.292       0.291       0.0577      -3.1        \n",
      "62          8.99255     0.18        0.252       0.0395      -4.6        \n",
      "63          8.81279     0.141       0.105       0.0244      -6.2        \n",
      "64          8.67169     0.0982      0.0747      0.0212      -inf        \n",
      "65          8.57354     0.0204      0.0405      0.0383      -inf        \n",
      "66          8.55318     0.0753      0.0641      0.0207      -inf        \n",
      "67          8.47789     0.00344     0.005       0.00469     -inf        \n",
      "68          8.47444     0.000679    0.000852    0.00162     -inf        \n",
      "69          8.47377     3.59e-05    5.15e-05    0.000353    -inf        \n",
      "SUCCEESS : gradient norm < tolGrad\n"
     ]
    }
   ],
   "source": [
    "maxIter= 100\n",
    "\n",
    "x0 = np.zeros(3)\n",
    "x0[0] = -1.0 # -2.0\n",
    "x0[1] = 0.0 # -0.5\n",
    "x0[2] = np.pi/2\n",
    "\n",
    "u0 = np.ones((N,iu))\n",
    "i1 = iLQR('unicycle',N,maxIter,myModel,myCost)\n",
    "x, u, Quu_save, Quu_inv_save, L, l = i1.update(x0,u0)"
   ]
  },
  {
   "cell_type": "code",
   "execution_count": 8,
   "metadata": {},
   "outputs": [
    {
     "data": {
      "image/png": "[encoded data removed]",
      "text/plain": [
       "<Figure size 432x288 with 1 Axes>"
      ]
     },
     "metadata": {
      "needs_background": "light"
     },
     "output_type": "display_data"
    },
    {
     "data": {
      "image/png": "[encoded data removed]",
      "text/plain": [
       "<Figure size 432x288 with 2 Axes>"
      ]
     },
     "metadata": {
      "needs_background": "light"
     },
     "output_type": "display_data"
    }
   ],
   "source": [
    "plt.figure\n",
    "fS = 18\n",
    "plt.plot(x[:,0], x[:,1], linewidth=2.0)\n",
    "plt.plot(np.linspace(0,3,10),np.linspace(0,3,10))\n",
    "plt.plot(x_t[0],x_t[1],\"o\",label='goal')\n",
    "plt.gca().set_aspect('equal', adjustable='box')\n",
    "plt.axis([-2, 2, 0, 4.0])\n",
    "plt.xlabel('X (m)', fontsize = fS)\n",
    "plt.ylabel('Y (m)', fontsize = fS)\n",
    "plt.show()\n",
    "plt.subplot(121)\n",
    "plt.plot(np.array(range(N))*0.1, u[:,0], linewidth=2.0)\n",
    "plt.xlabel('time (s)', fontsize = fS)\n",
    "plt.ylabel('v (m/s)', fontsize = fS)\n",
    "plt.subplot(122)\n",
    "plt.plot(np.array(range(N))*0.1, u[:,1], linewidth=2.0)\n",
    "plt.xlabel('time (s)', fontsize = fS)\n",
    "plt.ylabel('w (rad/s)', fontsize = fS)\n",
    "plt.show()"
   ]
  },
  {
   "cell_type": "markdown",
   "metadata": {
    "collapsed": true
   },
   "source": [
    "# Test integration"
   ]
  },
  {
   "cell_type": "code",
   "execution_count": null,
   "metadata": {},
   "outputs": [],
   "source": [
    "x_test = np.zeros_like(x)"
   ]
  },
  {
   "cell_type": "code",
   "execution_count": null,
   "metadata": {},
   "outputs": [],
   "source": [
    "# using for loop\n",
    "x_test[0,:] = x[0,:]\n",
    "state_init = x[0,:]\n",
    "start = time.time()\n",
    "for i in range(N) :\n",
    "    state_init = x_test[i,:]\n",
    "    int_result = solve_ivp(lambda t,x: myModel.forwardDyn(x,u[i,:],idx=t,discrete=False),\n",
    "                          t_span=(0,0.1),y0=state_init,max_step=1e-2)\n",
    "    x_test[i+1,:] = int_result.y[:,-1]\n",
    "print(time.time()-start)"
   ]
  },
  {
   "cell_type": "code",
   "execution_count": null,
   "metadata": {},
   "outputs": [],
   "source": [
    "\n",
    "# parallel integration\n",
    "def input_by_time(u,t,t_final) :\n",
    "    if t >= t_final :\n",
    "        return u[-1,:]\n",
    "    else :\n",
    "        return u[int(t*10),:]\n",
    "t_eval = np.array(range(N+1))*0.1\n",
    "state_init = x[0,:]\n",
    "start = time.time()\n",
    "int_result = solve_ivp(lambda t,x: myModel.forwardDyn(x,input_by_time(u,t,50),idx=t,discrete=False),\n",
    "                      t_span=(t_eval[0],t_eval[-1]),\n",
    "                       t_eval = t_eval,\n",
    "                       y0=state_init,\n",
    "                       max_step=1e-2,\n",
    "                      )\n",
    "x_test_p = int_result.y.transpose()\n",
    "print(time.time()-start)"
   ]
  },
  {
   "cell_type": "code",
   "execution_count": null,
   "metadata": {},
   "outputs": [],
   "source": [
    "%matplotlib qt\n",
    "plt.figure(figsize=(15,5))\n",
    "plt.subplot(131)\n",
    "plt.plot(np.array(range(N+1))*0.1, x[:,0], linewidth=2.0,label='naive')\n",
    "plt.plot(np.array(range(N+1))*0.1, x_test[:,0], linewidth=2.0,label='ode')\n",
    "plt.plot(np.array(range(N+1))*0.1, x_test_p[:,0], linewidth=2.0,label='ode_parallel')\n",
    "plt.xlabel('time (s)', fontsize = fS)\n",
    "plt.ylabel('x1 (m)', fontsize = fS)\n",
    "plt.subplot(132)\n",
    "plt.plot(np.array(range(N+1))*0.1, x[:,1], linewidth=2.0,label='naive')\n",
    "plt.plot(np.array(range(N+1))*0.1, x_test[:,1], linewidth=2.0,label='ode')\n",
    "plt.plot(np.array(range(N+1))*0.1, x_test_p[:,1], linewidth=2.0,label='ode_parallel')\n",
    "plt.xlabel('time (s)', fontsize = fS)\n",
    "plt.ylabel('x2 (m)', fontsize = fS)\n",
    "plt.subplot(133)\n",
    "plt.plot(np.array(range(N+1))*0.1, x[:,2], linewidth=2.0,label='naive')\n",
    "plt.plot(np.array(range(N+1))*0.1, x_test[:,2], linewidth=2.0,label='ode')\n",
    "# plt.plot(np.array(range(N+1))*0.1, x_test_p[:,2], linewidth=2.0,label='ode_parallel')\n",
    "plt.xlabel('time (s)', fontsize = fS)\n",
    "plt.ylabel('x3 (rad)', fontsize = fS)\n",
    "plt.legend(fontsize=fS)\n",
    "plt.show()"
   ]
  },
  {
   "cell_type": "code",
   "execution_count": null,
   "metadata": {},
   "outputs": [],
   "source": []
  },
  {
   "cell_type": "code",
   "execution_count": null,
   "metadata": {},
   "outputs": [],
   "source": []
  }
 ],
 "metadata": {
  "kernelspec": {
   "display_name": "Python 3",
   "language": "python",
   "name": "python3"
  },
  "language_info": {
   "codemirror_mode": {
    "name": "ipython",
    "version": 3
   },
   "file_extension": ".py",
   "mimetype": "text/x-python",
   "name": "python",
   "nbconvert_exporter": "python",
   "pygments_lexer": "ipython3",
   "version": "3.8.5"
  }
 },
 "nbformat": 4,
 "nbformat_minor": 1
}
